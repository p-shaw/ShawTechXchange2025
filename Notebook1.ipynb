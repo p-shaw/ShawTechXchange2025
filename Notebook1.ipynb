{
 "cells": [
  {
   "attachments": {},
   "cell_type": "markdown",
   "id": "8851cd87-a7a7-42f6-a4d9-6b7a04aa4ab8",
   "metadata": {},
   "source": [
    "This lab is organized around the use of Decision Optimization for solving business problems. Decision Optimization automates the process of finding solutions to organizational problems.  These problems are characterised by two aspects.  First, if given a solution to a problem, it is a relatively simple matter to check if the solution really respects the business requirements (for example, constraints on resources).  Secondly, although a solution is easy to check for correctness, finding such a solution might be extremely difficult.  We term such problems \"NP-hard\".  Using computers to find solutions to these problems is a branch of computer science which has been in active research since the 1950s.  Today, we use optimization engines such as CPLEX to find solutions to these problems.  We say \"optimization\" because as well as looking for a solution which matches business requirements, we are often looking for one which optimizes some business goal, such as minimizing cost or maximizing production.\n",
    "\n",
    "Key to solving optimization problems is the expression of the problems in mathematical terms.  Optimization engines need to be presented with a problem in _equational form_.  With:\n",
    "  - Unknowns of the problem (\"variables\")\n",
    "  - Constraints expressed as relations between the variables\n",
    "  - An _objective function_, which is a mathematical expression involving the variables.  The idea is to find a solution with the lowest value of the objective function.\n",
    "    \n",
    "For example, imagine timetabling in a school where we must assign lessions and teachers to rooms.  The unknowns are where and when the lessons will take place, as well as who will teach the lessons.  The constraints are room versus class size, the specialities of the teachers, the frequency of the lessons, the length of the working day, and so on.  The objective function could, for example, express an equitable teacher workload, or it could minimize walking time between classes, or a combination.\n",
    "\n",
    "Another example which we will use below is where to invest in a set of financial opportunities given a cost for each opportunity, its expected revenue, and a global budget.\n",
    "\n",
    "In this lab, we will learn about how to express an optimization problem in mathematical terms, how to produce a solution, and analyze it, and then go on to see how generative AI can help describe, produce and help analyse the solutions from these mathematical models.\n",
    "\n",
    "We first begin with a Python code specifying a mathematical model of the investment problem."
   ]
  },
  {
   "cell_type": "code",
   "execution_count": null,
   "id": "8b6a4c73-0ead-4eab-a112-c3162fada407",
   "metadata": {},
   "outputs": [],
   "source": [
    "from docplex.mp.model import Model\n",
    "import random\n",
    "\n",
    "N = 12\n",
    "COST = [100 * random.random() for i in range(N)]\n",
    "REVENUE = [COST[i] * (1 + random.random())  for i in range(N)]\n",
    "BUDGET = sum(COST) / 2\n",
    "\n",
    "mdl = Model()\n",
    "x = [mdl.binary_var(f\"x[{i}]\") for i in range(N)]\n",
    "spend = mdl.scal_prod(x, COST)\n",
    "income = mdl.scal_prod(x, REVENUE)\n",
    "profit = income - spend\n",
    "mdl.add(spend <= BUDGET)\n",
    "\n",
    "mdl.maximize(profit)\n",
    "result = mdl.solve()\n",
    "\n",
    "if result:\n",
    "    spent = 0\n",
    "    for i in range(N):\n",
    "        if result[x[i]] > 0.5:\n",
    "            spent += COST[i]\n",
    "            print(f\"YES {COST[i]} {REVENUE[i]}\")\n",
    "        else:\n",
    "            print(f\"NO {COST[i]} {REVENUE[i]}\")\n",
    "    print(f\"Spent {spent} of {BUDGET}\")\n",
    "else:\n",
    "    print(\"No solution found\")\n"
   ]
  },
  {
   "cell_type": "code",
   "execution_count": null,
   "id": "e7a98638-dcfc-4d12-87c2-5073cad3ab0f",
   "metadata": {},
   "outputs": [],
   "source": []
  }
 ],
 "metadata": {
  "kernelspec": {
   "display_name": "Python 3 (ipykernel)",
   "language": "python",
   "name": "python3"
  },
  "language_info": {
   "codemirror_mode": {
    "name": "ipython",
    "version": 3
   },
   "file_extension": ".py",
   "mimetype": "text/x-python",
   "name": "python",
   "nbconvert_exporter": "python",
   "pygments_lexer": "ipython3",
   "version": "3.12.9"
  }
 },
 "nbformat": 4,
 "nbformat_minor": 5
}
